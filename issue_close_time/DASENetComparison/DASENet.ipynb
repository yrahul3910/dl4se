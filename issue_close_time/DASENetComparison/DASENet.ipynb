{
 "cells": [
  {
   "cell_type": "markdown",
   "metadata": {},
   "source": [
    "## Data"
   ]
  },
  {
   "cell_type": "code",
   "execution_count": 1,
   "metadata": {},
   "outputs": [],
   "source": [
    "import pandas as pd\n",
    "import numpy as np\n",
    "from sklearn.model_selection import train_test_split\n",
    "from raise_utils.data import Data\n",
    "import gc"
   ]
  },
  {
   "cell_type": "code",
   "execution_count": 2,
   "metadata": {},
   "outputs": [
    {
     "name": "stderr",
     "output_type": "stream",
     "text": [
      "<ipython-input-2-c86471ff691a>:5: SettingWithCopyWarning: \n",
      "A value is trying to be set on a copy of a slice from a DataFrame.\n",
      "Try using .loc[row_indexer,col_indexer] = value instead\n",
      "\n",
      "See the caveats in the documentation: https://pandas.pydata.org/pandas-docs/stable/user_guide/indexing.html#returning-a-view-versus-a-copy\n",
      "  _df['s70'] = df['s7'].apply(lambda x: eval(x)[0])\n",
      "<ipython-input-2-c86471ff691a>:6: SettingWithCopyWarning: \n",
      "A value is trying to be set on a copy of a slice from a DataFrame.\n",
      "Try using .loc[row_indexer,col_indexer] = value instead\n",
      "\n",
      "See the caveats in the documentation: https://pandas.pydata.org/pandas-docs/stable/user_guide/indexing.html#returning-a-view-versus-a-copy\n",
      "  _df['s71'] = df['s7'].apply(lambda x: eval(x)[1])\n",
      "<ipython-input-2-c86471ff691a>:7: SettingWithCopyWarning: \n",
      "A value is trying to be set on a copy of a slice from a DataFrame.\n",
      "Try using .loc[row_indexer,col_indexer] = value instead\n",
      "\n",
      "See the caveats in the documentation: https://pandas.pydata.org/pandas-docs/stable/user_guide/indexing.html#returning-a-view-versus-a-copy\n",
      "  _df['s72'] = df['s7'].apply(lambda x: eval(x)[2])\n"
     ]
    }
   ],
   "source": [
    "df = pd.read_csv('./Bug-Related-Activity-Logs/firefox.csv')\n",
    "df.drop(['Unnamed: 0', 'bugID'], axis=1, inplace=True)\n",
    "\n",
    "_df = df[['s1', 's2', 's3', 's4', 's5', 's6', 's8', 'y']]\n",
    "_df['s70'] = df['s7'].apply(lambda x: eval(x)[0])\n",
    "_df['s71'] = df['s7'].apply(lambda x: eval(x)[1])\n",
    "_df['s72'] = df['s7'].apply(lambda x: eval(x)[2])\n",
    "\n",
    "_df['s90'] = df['s9'].apply(lambda x: eval(x)[0])\n",
    "_df['s91'] = df['s9'].apply(lambda x: eval(x)[1])\n",
    "_df['s92'] = df['s9'].apply(lambda x: eval(x)[2])\n",
    "\n",
    "x = _df.drop('y', axis=1)\n",
    "y = _df['y']\n",
    "\n",
    "data = Data(*train_test_split(x, y))\n",
    "data.y_train = data.y_train < 4\n",
    "data.y_test = data.y_test < 4"
   ]
  },
  {
   "cell_type": "code",
   "execution_count": 3,
   "metadata": {},
   "outputs": [
    {
     "data": {
      "text/html": [
       "<div>\n",
       "<style scoped>\n",
       "    .dataframe tbody tr th:only-of-type {\n",
       "        vertical-align: middle;\n",
       "    }\n",
       "\n",
       "    .dataframe tbody tr th {\n",
       "        vertical-align: top;\n",
       "    }\n",
       "\n",
       "    .dataframe thead th {\n",
       "        text-align: right;\n",
       "    }\n",
       "</style>\n",
       "<table border=\"1\" class=\"dataframe\">\n",
       "  <thead>\n",
       "    <tr style=\"text-align: right;\">\n",
       "      <th></th>\n",
       "      <th>user_comments</th>\n",
       "      <th>system_records</th>\n",
       "      <th>s1</th>\n",
       "      <th>s2</th>\n",
       "      <th>s3</th>\n",
       "      <th>s4</th>\n",
       "      <th>s5</th>\n",
       "      <th>s6</th>\n",
       "      <th>s7</th>\n",
       "      <th>s8</th>\n",
       "      <th>s9</th>\n",
       "      <th>y</th>\n",
       "    </tr>\n",
       "  </thead>\n",
       "  <tbody>\n",
       "    <tr>\n",
       "      <th>0</th>\n",
       "      <td>['eyedropper', 'style', 'editor', 'use', 'shar...</td>\n",
       "      <td>[]</td>\n",
       "      <td>1</td>\n",
       "      <td>1</td>\n",
       "      <td>0</td>\n",
       "      <td>32</td>\n",
       "      <td>1</td>\n",
       "      <td>0</td>\n",
       "      <td>[0, 0, 0]</td>\n",
       "      <td>1</td>\n",
       "      <td>[0, 1, 0]</td>\n",
       "      <td>3</td>\n",
       "    </tr>\n",
       "    <tr>\n",
       "      <th>1</th>\n",
       "      <td>['258347', 'assignee', 'comment1', 'createdatt...</td>\n",
       "      <td>['assignee', 'nobody', 'archaeopteryx', 'statu...</td>\n",
       "      <td>13</td>\n",
       "      <td>6</td>\n",
       "      <td>7</td>\n",
       "      <td>260</td>\n",
       "      <td>2</td>\n",
       "      <td>2</td>\n",
       "      <td>[0, 1, 0]</td>\n",
       "      <td>3</td>\n",
       "      <td>[0, 1, 1]</td>\n",
       "      <td>1</td>\n",
       "    </tr>\n",
       "    <tr>\n",
       "      <th>2</th>\n",
       "      <td>['75935', 'comment7']</td>\n",
       "      <td>['keywords', 'checkin-needed', 'whiteboard', '...</td>\n",
       "      <td>2</td>\n",
       "      <td>1</td>\n",
       "      <td>1</td>\n",
       "      <td>10</td>\n",
       "      <td>3</td>\n",
       "      <td>3</td>\n",
       "      <td>[1, 0, 1]</td>\n",
       "      <td>1</td>\n",
       "      <td>[0, 0, 1]</td>\n",
       "      <td>0</td>\n",
       "    </tr>\n",
       "    <tr>\n",
       "      <th>3</th>\n",
       "      <td>['keyboard', 'long', 'word', 'suggestions', 'c...</td>\n",
       "      <td>['see', 'also', 'bug', 'blocking-b2g', '2.0', ...</td>\n",
       "      <td>5</td>\n",
       "      <td>2</td>\n",
       "      <td>3</td>\n",
       "      <td>81</td>\n",
       "      <td>1</td>\n",
       "      <td>0</td>\n",
       "      <td>[0, 0, 0]</td>\n",
       "      <td>2</td>\n",
       "      <td>[1, 0, 1]</td>\n",
       "      <td>9</td>\n",
       "    </tr>\n",
       "    <tr>\n",
       "      <th>4</th>\n",
       "      <td>['465859', 'comment2', 'ni', 'william', 'regre...</td>\n",
       "      <td>['cc', 'bhuang', 'whsu', 'flags', 'needinfo', ...</td>\n",
       "      <td>2</td>\n",
       "      <td>1</td>\n",
       "      <td>1</td>\n",
       "      <td>27</td>\n",
       "      <td>2</td>\n",
       "      <td>3</td>\n",
       "      <td>[1, 0, 0]</td>\n",
       "      <td>1</td>\n",
       "      <td>[0, 0, 1]</td>\n",
       "      <td>6</td>\n",
       "    </tr>\n",
       "  </tbody>\n",
       "</table>\n",
       "</div>"
      ],
      "text/plain": [
       "                                       user_comments  \\\n",
       "0  ['eyedropper', 'style', 'editor', 'use', 'shar...   \n",
       "1  ['258347', 'assignee', 'comment1', 'createdatt...   \n",
       "2                              ['75935', 'comment7']   \n",
       "3  ['keyboard', 'long', 'word', 'suggestions', 'c...   \n",
       "4  ['465859', 'comment2', 'ni', 'william', 'regre...   \n",
       "\n",
       "                                      system_records  s1  s2  s3   s4  s5  s6  \\\n",
       "0                                                 []   1   1   0   32   1   0   \n",
       "1  ['assignee', 'nobody', 'archaeopteryx', 'statu...  13   6   7  260   2   2   \n",
       "2  ['keywords', 'checkin-needed', 'whiteboard', '...   2   1   1   10   3   3   \n",
       "3  ['see', 'also', 'bug', 'blocking-b2g', '2.0', ...   5   2   3   81   1   0   \n",
       "4  ['cc', 'bhuang', 'whsu', 'flags', 'needinfo', ...   2   1   1   27   2   3   \n",
       "\n",
       "          s7  s8         s9  y  \n",
       "0  [0, 0, 0]   1  [0, 1, 0]  3  \n",
       "1  [0, 1, 0]   3  [0, 1, 1]  1  \n",
       "2  [1, 0, 1]   1  [0, 0, 1]  0  \n",
       "3  [0, 0, 0]   2  [1, 0, 1]  9  \n",
       "4  [1, 0, 0]   1  [0, 0, 1]  6  "
      ]
     },
     "execution_count": 3,
     "metadata": {},
     "output_type": "execute_result"
    }
   ],
   "source": [
    "df.head()"
   ]
  },
  {
   "cell_type": "markdown",
   "metadata": {},
   "source": [
    "## Word embeddings"
   ]
  },
  {
   "cell_type": "code",
   "execution_count": 4,
   "metadata": {},
   "outputs": [],
   "source": [
    "from gensim.models.fasttext import FastText"
   ]
  },
  {
   "cell_type": "code",
   "execution_count": 5,
   "metadata": {},
   "outputs": [],
   "source": [
    "x_user_raw = [eval(x) for x in df['user_comments']]\n",
    "x_user_raw_train, x_user_raw_test = train_test_split(x_user_raw)"
   ]
  },
  {
   "cell_type": "code",
   "execution_count": 8,
   "metadata": {},
   "outputs": [
    {
     "name": "stderr",
     "output_type": "stream",
     "text": [
      "<ipython-input-8-f09ee4f6d2a7>:1: VisibleDeprecationWarning: Creating an ndarray from ragged nested sequences (which is a list-or-tuple of lists-or-tuples-or ndarrays with different lengths or shapes) is deprecated. If you meant to do this, you must specify 'dtype=object' when creating the ndarray\n",
      "  np.array(x_user_raw_train).shape, np.array(x_user_raw_test).shape\n"
     ]
    },
    {
     "data": {
      "text/plain": [
       "((52500,), (17501,))"
      ]
     },
     "execution_count": 8,
     "metadata": {},
     "output_type": "execute_result"
    }
   ],
   "source": [
    "np.array(x_user_raw_train).shape, np.array(x_user_raw_test).shape"
   ]
  },
  {
   "cell_type": "code",
   "execution_count": 9,
   "metadata": {},
   "outputs": [],
   "source": [
    "user_model = FastText(sentences=x_user_raw_train, sg=1, size=200)"
   ]
  },
  {
   "cell_type": "code",
   "execution_count": 10,
   "metadata": {},
   "outputs": [],
   "source": [
    "x_sys_raw = [eval(x) for x in df['system_records']]\n",
    "x_sys_raw_train, x_sys_raw_test = train_test_split(x_sys_raw)"
   ]
  },
  {
   "cell_type": "code",
   "execution_count": 11,
   "metadata": {},
   "outputs": [
    {
     "name": "stderr",
     "output_type": "stream",
     "text": [
      "<ipython-input-11-6e2caaa98366>:1: VisibleDeprecationWarning: Creating an ndarray from ragged nested sequences (which is a list-or-tuple of lists-or-tuples-or ndarrays with different lengths or shapes) is deprecated. If you meant to do this, you must specify 'dtype=object' when creating the ndarray\n",
      "  np.array(x_sys_raw_train).shape, np.array(x_sys_raw_test).shape\n"
     ]
    },
    {
     "data": {
      "text/plain": [
       "((52500,), (17501,))"
      ]
     },
     "execution_count": 11,
     "metadata": {},
     "output_type": "execute_result"
    }
   ],
   "source": [
    "np.array(x_sys_raw_train).shape, np.array(x_sys_raw_test).shape"
   ]
  },
  {
   "cell_type": "code",
   "execution_count": 12,
   "metadata": {},
   "outputs": [],
   "source": [
    "system_model = FastText(sentences=x_sys_raw_train, sg=1, size=200)"
   ]
  },
  {
   "cell_type": "markdown",
   "metadata": {},
   "source": [
    "## Activity log stream encoding"
   ]
  },
  {
   "cell_type": "code",
   "execution_count": 13,
   "metadata": {},
   "outputs": [],
   "source": [
    "from keras.layers import Bidirectional, LSTM, Dense, BatchNormalization, merge, Input, LeakyReLU, Flatten, Reshape\n",
    "from keras.preprocessing.sequence import pad_sequences"
   ]
  },
  {
   "cell_type": "code",
   "execution_count": 19,
   "metadata": {},
   "outputs": [],
   "source": [
    "maxlen = 50\n",
    "x_user_train = [t[:50] if len(t) >= 50 else t + (['end'] * (50 - len(t))) for t in x_user_raw_train]"
   ]
  },
  {
   "cell_type": "code",
   "execution_count": 20,
   "metadata": {},
   "outputs": [
    {
     "data": {
      "text/plain": [
       "(52500, 50)"
      ]
     },
     "execution_count": 20,
     "metadata": {},
     "output_type": "execute_result"
    }
   ],
   "source": [
    "np.array(x_user_train).shape"
   ]
  },
  {
   "cell_type": "code",
   "execution_count": 22,
   "metadata": {},
   "outputs": [
    {
     "data": {
      "text/plain": [
       "[['463932',\n",
       "  'assignee',\n",
       "  'comment1',\n",
       "  'createdattachment',\n",
       "  'details',\n",
       "  'diff',\n",
       "  'review',\n",
       "  'show',\n",
       "  'tabs',\n",
       "  'when',\n",
       "  'opening',\n",
       "  'fennec',\n",
       "  'tab',\n",
       "  'queue',\n",
       "  'notification',\n",
       "  'adds',\n",
       "  'onnewintent',\n",
       "  'method',\n",
       "  'browserapp',\n",
       "  'detect',\n",
       "  'if',\n",
       "  'action',\n",
       "  'associated',\n",
       "  'new',\n",
       "  'intent',\n",
       "  'one',\n",
       "  'defined',\n",
       "  'pending',\n",
       "  'intent',\n",
       "  'when',\n",
       "  'add',\n",
       "  'notification',\n",
       "  'bug',\n",
       "  'if',\n",
       "  'so',\n",
       "  'open',\n",
       "  'tabs',\n",
       "  'if',\n",
       "  'than',\n",
       "  'one',\n",
       "  'tab',\n",
       "  'opened',\n",
       "  'also',\n",
       "  'show',\n",
       "  'tabs',\n",
       "  'panel',\n",
       "  'user',\n",
       "  'seeing',\n",
       "  'tabs',\n",
       "  'have'],\n",
       " ['456335',\n",
       "  'assignee',\n",
       "  'comment1',\n",
       "  'createdattachment',\n",
       "  'details',\n",
       "  'review',\n",
       "  'proposed',\n",
       "  'fix',\n",
       "  'end',\n",
       "  'end',\n",
       "  'end',\n",
       "  'end',\n",
       "  'end',\n",
       "  'end',\n",
       "  'end',\n",
       "  'end',\n",
       "  'end',\n",
       "  'end',\n",
       "  'end',\n",
       "  'end',\n",
       "  'end',\n",
       "  'end',\n",
       "  'end',\n",
       "  'end',\n",
       "  'end',\n",
       "  'end',\n",
       "  'end',\n",
       "  'end',\n",
       "  'end',\n",
       "  'end',\n",
       "  'end',\n",
       "  'end',\n",
       "  'end',\n",
       "  'end',\n",
       "  'end',\n",
       "  'end',\n",
       "  'end',\n",
       "  'end',\n",
       "  'end',\n",
       "  'end',\n",
       "  'end',\n",
       "  'end',\n",
       "  'end',\n",
       "  'end',\n",
       "  'end',\n",
       "  'end',\n",
       "  'end',\n",
       "  'end',\n",
       "  'end',\n",
       "  'end'],\n",
       " ['252194',\n",
       "  'updated',\n",
       "  'end',\n",
       "  'end',\n",
       "  'end',\n",
       "  'end',\n",
       "  'end',\n",
       "  'end',\n",
       "  'end',\n",
       "  'end',\n",
       "  'end',\n",
       "  'end',\n",
       "  'end',\n",
       "  'end',\n",
       "  'end',\n",
       "  'end',\n",
       "  'end',\n",
       "  'end',\n",
       "  'end',\n",
       "  'end',\n",
       "  'end',\n",
       "  'end',\n",
       "  'end',\n",
       "  'end',\n",
       "  'end',\n",
       "  'end',\n",
       "  'end',\n",
       "  'end',\n",
       "  'end',\n",
       "  'end',\n",
       "  'end',\n",
       "  'end',\n",
       "  'end',\n",
       "  'end',\n",
       "  'end',\n",
       "  'end',\n",
       "  'end',\n",
       "  'end',\n",
       "  'end',\n",
       "  'end',\n",
       "  'end',\n",
       "  'end',\n",
       "  'end',\n",
       "  'end',\n",
       "  'end',\n",
       "  'end',\n",
       "  'end',\n",
       "  'end',\n",
       "  'end',\n",
       "  'end'],\n",
       " ['181004',\n",
       "  'updated',\n",
       "  'updated',\n",
       "  'updated',\n",
       "  'end',\n",
       "  'end',\n",
       "  'end',\n",
       "  'end',\n",
       "  'end',\n",
       "  'end',\n",
       "  'end',\n",
       "  'end',\n",
       "  'end',\n",
       "  'end',\n",
       "  'end',\n",
       "  'end',\n",
       "  'end',\n",
       "  'end',\n",
       "  'end',\n",
       "  'end',\n",
       "  'end',\n",
       "  'end',\n",
       "  'end',\n",
       "  'end',\n",
       "  'end',\n",
       "  'end',\n",
       "  'end',\n",
       "  'end',\n",
       "  'end',\n",
       "  'end',\n",
       "  'end',\n",
       "  'end',\n",
       "  'end',\n",
       "  'end',\n",
       "  'end',\n",
       "  'end',\n",
       "  'end',\n",
       "  'end',\n",
       "  'end',\n",
       "  'end',\n",
       "  'end',\n",
       "  'end',\n",
       "  'end',\n",
       "  'end',\n",
       "  'end',\n",
       "  'end',\n",
       "  'end',\n",
       "  'end',\n",
       "  'end',\n",
       "  'end'],\n",
       " ['bluetooth2',\n",
       "  'reject',\n",
       "  'pair',\n",
       "  'promise',\n",
       "  'if',\n",
       "  'outgoing',\n",
       "  'pairing',\n",
       "  'request',\n",
       "  'failed',\n",
       "  '500527',\n",
       "  'assignee',\n",
       "  'description',\n",
       "  'if',\n",
       "  'outgoing',\n",
       "  'pairing',\n",
       "  'request',\n",
       "  'failed',\n",
       "  'did',\n",
       "  \"n't\",\n",
       "  'reject',\n",
       "  'pair',\n",
       "  'promise',\n",
       "  'current',\n",
       "  'implementation',\n",
       "  'should',\n",
       "  'handle',\n",
       "  'fail',\n",
       "  'case',\n",
       "  'bondstatechangednotification',\n",
       "  'assignee',\n",
       "  'updated',\n",
       "  'end',\n",
       "  'end',\n",
       "  'end',\n",
       "  'end',\n",
       "  'end',\n",
       "  'end',\n",
       "  'end',\n",
       "  'end',\n",
       "  'end',\n",
       "  'end',\n",
       "  'end',\n",
       "  'end',\n",
       "  'end',\n",
       "  'end',\n",
       "  'end',\n",
       "  'end',\n",
       "  'end',\n",
       "  'end',\n",
       "  'end']]"
      ]
     },
     "execution_count": 22,
     "metadata": {},
     "output_type": "execute_result"
    }
   ],
   "source": [
    "x_user_train[:5]"
   ]
  },
  {
   "cell_type": "code",
   "execution_count": 24,
   "metadata": {},
   "outputs": [],
   "source": [
    "x_sys_train = [t[:50] if len(t) >= 50 else t + (['end'] * (50 - len(t))) for t in x_sys_raw_train]"
   ]
  },
  {
   "cell_type": "code",
   "execution_count": 25,
   "metadata": {},
   "outputs": [
    {
     "data": {
      "text/plain": [
       "(52500, 50)"
      ]
     },
     "execution_count": 25,
     "metadata": {},
     "output_type": "execute_result"
    }
   ],
   "source": [
    "np.array(x_sys_train).shape"
   ]
  },
  {
   "cell_type": "code",
   "execution_count": 26,
   "metadata": {},
   "outputs": [
    {
     "data": {
      "text/plain": [
       "[['end',\n",
       "  'end',\n",
       "  'end',\n",
       "  'end',\n",
       "  'end',\n",
       "  'end',\n",
       "  'end',\n",
       "  'end',\n",
       "  'end',\n",
       "  'end',\n",
       "  'end',\n",
       "  'end',\n",
       "  'end',\n",
       "  'end',\n",
       "  'end',\n",
       "  'end',\n",
       "  'end',\n",
       "  'end',\n",
       "  'end',\n",
       "  'end',\n",
       "  'end',\n",
       "  'end',\n",
       "  'end',\n",
       "  'end',\n",
       "  'end',\n",
       "  'end',\n",
       "  'end',\n",
       "  'end',\n",
       "  'end',\n",
       "  'end',\n",
       "  'end',\n",
       "  'end',\n",
       "  'end',\n",
       "  'end',\n",
       "  'end',\n",
       "  'end',\n",
       "  'end',\n",
       "  'end',\n",
       "  'end',\n",
       "  'end',\n",
       "  'end',\n",
       "  'end',\n",
       "  'end',\n",
       "  'end',\n",
       "  'end',\n",
       "  'end',\n",
       "  'end',\n",
       "  'end',\n",
       "  'end',\n",
       "  'end'],\n",
       " ['flags',\n",
       "  'needinfo',\n",
       "  'lhenry',\n",
       "  'blocks',\n",
       "  'attachment',\n",
       "  'flags',\n",
       "  'review',\n",
       "  'bmcbride',\n",
       "  'assignee',\n",
       "  'nobody',\n",
       "  'jfkthame',\n",
       "  'status',\n",
       "  'new',\n",
       "  'assigned',\n",
       "  'attachment',\n",
       "  'flags',\n",
       "  'review',\n",
       "  'bmcbride',\n",
       "  'review',\n",
       "  'end',\n",
       "  'end',\n",
       "  'end',\n",
       "  'end',\n",
       "  'end',\n",
       "  'end',\n",
       "  'end',\n",
       "  'end',\n",
       "  'end',\n",
       "  'end',\n",
       "  'end',\n",
       "  'end',\n",
       "  'end',\n",
       "  'end',\n",
       "  'end',\n",
       "  'end',\n",
       "  'end',\n",
       "  'end',\n",
       "  'end',\n",
       "  'end',\n",
       "  'end',\n",
       "  'end',\n",
       "  'end',\n",
       "  'end',\n",
       "  'end',\n",
       "  'end',\n",
       "  'end',\n",
       "  'end',\n",
       "  'end',\n",
       "  'end',\n",
       "  'end'],\n",
       " ['component',\n",
       "  'untriaged',\n",
       "  'panning',\n",
       "  'zooming',\n",
       "  'flags',\n",
       "  'needinfo',\n",
       "  'bugmail.mozilla',\n",
       "  'os',\n",
       "  'unspecified',\n",
       "  'android',\n",
       "  'product',\n",
       "  'firefox',\n",
       "  'core',\n",
       "  'hardware',\n",
       "  'unspecified',\n",
       "  'arm',\n",
       "  'component',\n",
       "  'panning',\n",
       "  'zooming',\n",
       "  'graphics',\n",
       "  'panning',\n",
       "  'zooming',\n",
       "  'flags',\n",
       "  'needinfo',\n",
       "  'bugmail.mozilla',\n",
       "  'product',\n",
       "  'core',\n",
       "  'firefox',\n",
       "  'android',\n",
       "  'version',\n",
       "  '41',\n",
       "  'branch',\n",
       "  'firefox',\n",
       "  '41',\n",
       "  'end',\n",
       "  'end',\n",
       "  'end',\n",
       "  'end',\n",
       "  'end',\n",
       "  'end',\n",
       "  'end',\n",
       "  'end',\n",
       "  'end',\n",
       "  'end',\n",
       "  'end',\n",
       "  'end',\n",
       "  'end',\n",
       "  'end',\n",
       "  'end',\n",
       "  'end'],\n",
       " ['status-firefox30',\n",
       "  'affected',\n",
       "  'wontfix',\n",
       "  'status-firefox33',\n",
       "  'affected',\n",
       "  'end',\n",
       "  'end',\n",
       "  'end',\n",
       "  'end',\n",
       "  'end',\n",
       "  'end',\n",
       "  'end',\n",
       "  'end',\n",
       "  'end',\n",
       "  'end',\n",
       "  'end',\n",
       "  'end',\n",
       "  'end',\n",
       "  'end',\n",
       "  'end',\n",
       "  'end',\n",
       "  'end',\n",
       "  'end',\n",
       "  'end',\n",
       "  'end',\n",
       "  'end',\n",
       "  'end',\n",
       "  'end',\n",
       "  'end',\n",
       "  'end',\n",
       "  'end',\n",
       "  'end',\n",
       "  'end',\n",
       "  'end',\n",
       "  'end',\n",
       "  'end',\n",
       "  'end',\n",
       "  'end',\n",
       "  'end',\n",
       "  'end',\n",
       "  'end',\n",
       "  'end',\n",
       "  'end',\n",
       "  'end',\n",
       "  'end',\n",
       "  'end',\n",
       "  'end',\n",
       "  'end',\n",
       "  'end',\n",
       "  'end'],\n",
       " ['blocking-b2g',\n",
       "  'spark',\n",
       "  'spark',\n",
       "  'blocking-b2g',\n",
       "  'spark',\n",
       "  'spark',\n",
       "  'flags',\n",
       "  'needinfo',\n",
       "  'firefoxos-ux-bugzilla',\n",
       "  'blocking-b2g',\n",
       "  'spark',\n",
       "  'spark',\n",
       "  'flags',\n",
       "  'needinfo',\n",
       "  'firefoxos-ux-bugzilla',\n",
       "  'end',\n",
       "  'end',\n",
       "  'end',\n",
       "  'end',\n",
       "  'end',\n",
       "  'end',\n",
       "  'end',\n",
       "  'end',\n",
       "  'end',\n",
       "  'end',\n",
       "  'end',\n",
       "  'end',\n",
       "  'end',\n",
       "  'end',\n",
       "  'end',\n",
       "  'end',\n",
       "  'end',\n",
       "  'end',\n",
       "  'end',\n",
       "  'end',\n",
       "  'end',\n",
       "  'end',\n",
       "  'end',\n",
       "  'end',\n",
       "  'end',\n",
       "  'end',\n",
       "  'end',\n",
       "  'end',\n",
       "  'end',\n",
       "  'end',\n",
       "  'end',\n",
       "  'end',\n",
       "  'end',\n",
       "  'end',\n",
       "  'end']]"
      ]
     },
     "execution_count": 26,
     "metadata": {},
     "output_type": "execute_result"
    }
   ],
   "source": [
    "x_sys_train[:5]"
   ]
  },
  {
   "cell_type": "code",
   "execution_count": 27,
   "metadata": {},
   "outputs": [
    {
     "name": "stderr",
     "output_type": "stream",
     "text": [
      "<ipython-input-27-ad4210106d98>:1: DeprecationWarning: Call to deprecated `__getitem__` (Method will be removed in 4.0.0, use self.wv.__getitem__() instead).\n",
      "  x_user_train = [[user_model[word] for word in arr] for arr in x_user_train]\n"
     ]
    }
   ],
   "source": [
    "x_user_train = [[user_model[word] for word in arr] for arr in x_user_train]"
   ]
  },
  {
   "cell_type": "code",
   "execution_count": 28,
   "metadata": {},
   "outputs": [],
   "source": [
    "x_user_train = np.array(x_user_train)"
   ]
  },
  {
   "cell_type": "code",
   "execution_count": 29,
   "metadata": {},
   "outputs": [
    {
     "name": "stderr",
     "output_type": "stream",
     "text": [
      "<ipython-input-29-09af2f8763fd>:1: DeprecationWarning: Call to deprecated `__getitem__` (Method will be removed in 4.0.0, use self.wv.__getitem__() instead).\n",
      "  x_sys_train = np.array([[system_model[word] for word in arr] for arr in x_sys_train])\n"
     ]
    }
   ],
   "source": [
    "x_sys_train = np.array([[system_model[word] for word in arr] for arr in x_sys_train])"
   ]
  },
  {
   "cell_type": "code",
   "execution_count": 30,
   "metadata": {},
   "outputs": [
    {
     "data": {
      "text/plain": [
       "((52500, 50, 200), (52500, 50, 200))"
      ]
     },
     "execution_count": 30,
     "metadata": {},
     "output_type": "execute_result"
    }
   ],
   "source": [
    "x_user_train.shape, x_sys_train.shape"
   ]
  },
  {
   "cell_type": "code",
   "execution_count": 31,
   "metadata": {},
   "outputs": [],
   "source": [
    "x_user_test = [t[:50] if len(t) >= 50 else t + (['end'] * (50 - len(t))) for t in x_user_raw_test]"
   ]
  },
  {
   "cell_type": "code",
   "execution_count": 32,
   "metadata": {},
   "outputs": [],
   "source": [
    "x_sys_test = [t[:50] if len(t) >= 50 else t + (['end'] * (50 - len(t))) for t in x_sys_raw_test]"
   ]
  },
  {
   "cell_type": "code",
   "execution_count": 33,
   "metadata": {},
   "outputs": [
    {
     "data": {
      "text/plain": [
       "((17501, 50), (17501, 50))"
      ]
     },
     "execution_count": 33,
     "metadata": {},
     "output_type": "execute_result"
    }
   ],
   "source": [
    "np.array(x_user_test).shape, np.array(x_sys_test).shape"
   ]
  },
  {
   "cell_type": "code",
   "execution_count": 34,
   "metadata": {},
   "outputs": [
    {
     "data": {
      "text/plain": [
       "40"
      ]
     },
     "execution_count": 34,
     "metadata": {},
     "output_type": "execute_result"
    }
   ],
   "source": [
    "del x_sys_raw_train, x_sys_raw_test, x_user_raw_train, x_user_raw_test\n",
    "gc.collect()"
   ]
  },
  {
   "cell_type": "code",
   "execution_count": 35,
   "metadata": {},
   "outputs": [],
   "source": [
    "user_activity_input = Input(shape=x_user_train.shape[1:])\n",
    "\n",
    "user_activity_stream_hidden_layer = Bidirectional(\n",
    "    LSTM(128, return_sequences=True, input_shape=(x_user_train.shape[1], x_user_train.shape[2]))\n",
    ")(user_activity_input)\n",
    "\n",
    "user_activity_stream = Bidirectional(\n",
    "    LSTM(256, return_sequences=True, input_shape=(x_user_train.shape[1], 256))\n",
    ")(user_activity_stream_hidden_layer)"
   ]
  },
  {
   "cell_type": "code",
   "execution_count": 36,
   "metadata": {},
   "outputs": [],
   "source": [
    "sys_activity_input = Input(shape=x_sys_train.shape[1:])\n",
    "\n",
    "sys_activity_stream_hidden_layer = Bidirectional(\n",
    "    LSTM(128, return_sequences=True, input_shape=x_sys_train.shape[1:])\n",
    ")(sys_activity_input)\n",
    "\n",
    "sys_activity_stream = Bidirectional(\n",
    "    LSTM(32, return_sequences=True, input_shape=(x_sys_train.shape[1], 256))\n",
    ")(sys_activity_stream_hidden_layer)"
   ]
  },
  {
   "cell_type": "code",
   "execution_count": 37,
   "metadata": {},
   "outputs": [],
   "source": [
    "meta_input = Input(shape=data.x_train.shape[1:])\n",
    "\n",
    "meta_hidden_layer = Dense(50)(meta_input)\n",
    "meta_hidden_activation = LeakyReLU()(meta_hidden_layer)\n",
    "\n",
    "meta = Dense(30)(meta_hidden_activation)\n",
    "meta = LeakyReLU()(meta)"
   ]
  },
  {
   "cell_type": "markdown",
   "metadata": {},
   "source": [
    "## Concatenate"
   ]
  },
  {
   "cell_type": "code",
   "execution_count": 38,
   "metadata": {},
   "outputs": [],
   "source": [
    "flatten1 = Flatten()(user_activity_stream)\n",
    "flatten2 = Flatten()(sys_activity_stream)\n",
    "\n",
    "concat_layer = merge.Concatenate(axis=-1)([flatten1, flatten2, meta])"
   ]
  },
  {
   "cell_type": "markdown",
   "metadata": {},
   "source": [
    "## Merging MLP layer"
   ]
  },
  {
   "cell_type": "code",
   "execution_count": 39,
   "metadata": {},
   "outputs": [],
   "source": [
    "mlp_layer1 = Dense(380, input_shape=())(concat_layer)\n",
    "mlp_activ1 = LeakyReLU()(mlp_layer1)\n",
    "\n",
    "mlp_layer2 = Dense(450)(mlp_activ1)\n",
    "mlp_activ2 = LeakyReLU()(mlp_layer2)\n",
    "\n",
    "mlp_layer3 = Dense(260)(mlp_activ2)\n",
    "mlp_activ3 = LeakyReLU()(mlp_layer3)\n",
    "\n",
    "mlp_layer4 = Dense(200)(mlp_activ3)\n",
    "mlp_activ4 = LeakyReLU()(mlp_layer4)\n",
    "\n",
    "mlp_out = Dense(200)(mlp_activ4)\n",
    "mlp_out = LeakyReLU()(mlp_out)"
   ]
  },
  {
   "cell_type": "markdown",
   "metadata": {},
   "source": [
    "## Bin-sequence embedding"
   ]
  },
  {
   "cell_type": "code",
   "execution_count": 40,
   "metadata": {},
   "outputs": [],
   "source": [
    "# from https://gist.github.com/skeeet/b639eea7e3fc51dd03e9b69c06b2fdf1\n",
    "def make_residual_lstm_layers(input, rnn_width, rnn_depth):\n",
    "    \"\"\"\n",
    "    The intermediate LSTM layers return sequences, while the last returns a single element.\n",
    "    The input is also a sequence. In order to match the shape of input and output of the LSTM\n",
    "    to sum them we can do it only for all layers but the last.\n",
    "    \"\"\"\n",
    "    x = input\n",
    "    for i in range(rnn_depth):\n",
    "        return_sequences = i < rnn_depth - 1\n",
    "        x_rnn = LSTM(rnn_width, return_sequences=return_sequences)(input)\n",
    "        x_rnn = BatchNormalization()(x_rnn)\n",
    "        if return_sequences:\n",
    "            # residual block\n",
    "            x = merge.Add()([x, x_rnn])\n",
    "        else:\n",
    "            # last layer does not return sequences and cannot be residual\n",
    "            x = x_rnn\n",
    "    return x"
   ]
  },
  {
   "cell_type": "code",
   "execution_count": 41,
   "metadata": {},
   "outputs": [],
   "source": [
    "reshape = Reshape((1, 200))(mlp_out)"
   ]
  },
  {
   "cell_type": "code",
   "execution_count": 42,
   "metadata": {},
   "outputs": [],
   "source": [
    "dasenet = make_residual_lstm_layers(reshape, 200, rnn_depth=8)"
   ]
  },
  {
   "cell_type": "code",
   "execution_count": 43,
   "metadata": {},
   "outputs": [
    {
     "data": {
      "text/plain": [
       "TensorShape([None, 200])"
      ]
     },
     "execution_count": 43,
     "metadata": {},
     "output_type": "execute_result"
    }
   ],
   "source": [
    "dasenet.shape"
   ]
  },
  {
   "cell_type": "code",
   "execution_count": 44,
   "metadata": {},
   "outputs": [],
   "source": [
    "n_classes = 2\n",
    "final_layer = Dense(n_classes, activation='softmax')(dasenet)"
   ]
  },
  {
   "cell_type": "code",
   "execution_count": 45,
   "metadata": {},
   "outputs": [],
   "source": [
    "from keras.models import Model"
   ]
  },
  {
   "cell_type": "code",
   "execution_count": 46,
   "metadata": {},
   "outputs": [],
   "source": [
    "model = Model(inputs=[user_activity_input, sys_activity_input, meta_input], outputs=[final_layer])"
   ]
  },
  {
   "cell_type": "code",
   "execution_count": 47,
   "metadata": {},
   "outputs": [
    {
     "name": "stdout",
     "output_type": "stream",
     "text": [
      "Model: \"model\"\n",
      "__________________________________________________________________________________________________\n",
      "Layer (type)                    Output Shape         Param #     Connected to                     \n",
      "==================================================================================================\n",
      "input_3 (InputLayer)            [(None, 13)]         0                                            \n",
      "__________________________________________________________________________________________________\n",
      "input_1 (InputLayer)            [(None, 50, 200)]    0                                            \n",
      "__________________________________________________________________________________________________\n",
      "input_2 (InputLayer)            [(None, 50, 200)]    0                                            \n",
      "__________________________________________________________________________________________________\n",
      "dense (Dense)                   (None, 50)           700         input_3[0][0]                    \n",
      "__________________________________________________________________________________________________\n",
      "bidirectional (Bidirectional)   (None, 50, 256)      336896      input_1[0][0]                    \n",
      "__________________________________________________________________________________________________\n",
      "bidirectional_2 (Bidirectional) (None, 50, 256)      336896      input_2[0][0]                    \n",
      "__________________________________________________________________________________________________\n",
      "leaky_re_lu (LeakyReLU)         (None, 50)           0           dense[0][0]                      \n",
      "__________________________________________________________________________________________________\n",
      "bidirectional_1 (Bidirectional) (None, 50, 512)      1050624     bidirectional[0][0]              \n",
      "__________________________________________________________________________________________________\n",
      "bidirectional_3 (Bidirectional) (None, 50, 64)       73984       bidirectional_2[0][0]            \n",
      "__________________________________________________________________________________________________\n",
      "dense_1 (Dense)                 (None, 30)           1530        leaky_re_lu[0][0]                \n",
      "__________________________________________________________________________________________________\n",
      "flatten (Flatten)               (None, 25600)        0           bidirectional_1[0][0]            \n",
      "__________________________________________________________________________________________________\n",
      "flatten_1 (Flatten)             (None, 3200)         0           bidirectional_3[0][0]            \n",
      "__________________________________________________________________________________________________\n",
      "leaky_re_lu_1 (LeakyReLU)       (None, 30)           0           dense_1[0][0]                    \n",
      "__________________________________________________________________________________________________\n",
      "concatenate (Concatenate)       (None, 28830)        0           flatten[0][0]                    \n",
      "                                                                 flatten_1[0][0]                  \n",
      "                                                                 leaky_re_lu_1[0][0]              \n",
      "__________________________________________________________________________________________________\n",
      "dense_2 (Dense)                 (None, 380)          10955780    concatenate[0][0]                \n",
      "__________________________________________________________________________________________________\n",
      "leaky_re_lu_2 (LeakyReLU)       (None, 380)          0           dense_2[0][0]                    \n",
      "__________________________________________________________________________________________________\n",
      "dense_3 (Dense)                 (None, 450)          171450      leaky_re_lu_2[0][0]              \n",
      "__________________________________________________________________________________________________\n",
      "leaky_re_lu_3 (LeakyReLU)       (None, 450)          0           dense_3[0][0]                    \n",
      "__________________________________________________________________________________________________\n",
      "dense_4 (Dense)                 (None, 260)          117260      leaky_re_lu_3[0][0]              \n",
      "__________________________________________________________________________________________________\n",
      "leaky_re_lu_4 (LeakyReLU)       (None, 260)          0           dense_4[0][0]                    \n",
      "__________________________________________________________________________________________________\n",
      "dense_5 (Dense)                 (None, 200)          52200       leaky_re_lu_4[0][0]              \n",
      "__________________________________________________________________________________________________\n",
      "leaky_re_lu_5 (LeakyReLU)       (None, 200)          0           dense_5[0][0]                    \n",
      "__________________________________________________________________________________________________\n",
      "dense_6 (Dense)                 (None, 200)          40200       leaky_re_lu_5[0][0]              \n",
      "__________________________________________________________________________________________________\n",
      "leaky_re_lu_6 (LeakyReLU)       (None, 200)          0           dense_6[0][0]                    \n",
      "__________________________________________________________________________________________________\n",
      "reshape (Reshape)               (None, 1, 200)       0           leaky_re_lu_6[0][0]              \n",
      "__________________________________________________________________________________________________\n",
      "lstm_11 (LSTM)                  (None, 200)          320800      reshape[0][0]                    \n",
      "__________________________________________________________________________________________________\n",
      "batch_normalization_7 (BatchNor (None, 200)          800         lstm_11[0][0]                    \n",
      "__________________________________________________________________________________________________\n",
      "dense_7 (Dense)                 (None, 2)            402         batch_normalization_7[0][0]      \n",
      "==================================================================================================\n",
      "Total params: 13,459,522\n",
      "Trainable params: 13,459,122\n",
      "Non-trainable params: 400\n",
      "__________________________________________________________________________________________________\n"
     ]
    }
   ],
   "source": [
    "model.summary()"
   ]
  },
  {
   "cell_type": "markdown",
   "metadata": {},
   "source": [
    "## Fit"
   ]
  },
  {
   "cell_type": "code",
   "execution_count": 48,
   "metadata": {},
   "outputs": [],
   "source": [
    "from keras.utils import to_categorical"
   ]
  },
  {
   "cell_type": "code",
   "execution_count": 49,
   "metadata": {},
   "outputs": [],
   "source": [
    "model.compile(optimizer='adam', loss='categorical_crossentropy')"
   ]
  },
  {
   "cell_type": "code",
   "execution_count": 50,
   "metadata": {},
   "outputs": [],
   "source": [
    "data.y_train = to_categorical(data.y_train)"
   ]
  },
  {
   "cell_type": "code",
   "execution_count": 51,
   "metadata": {},
   "outputs": [],
   "source": [
    "data.y_test = to_categorical(data.y_test)"
   ]
  },
  {
   "cell_type": "code",
   "execution_count": 52,
   "metadata": {},
   "outputs": [
    {
     "data": {
      "text/plain": [
       "((52500, 50, 200), (52500, 50, 200), (52500, 13))"
      ]
     },
     "execution_count": 52,
     "metadata": {},
     "output_type": "execute_result"
    }
   ],
   "source": [
    "x_user_train.shape, x_sys_train.shape, data.x_train.shape"
   ]
  },
  {
   "cell_type": "code",
   "execution_count": 54,
   "metadata": {},
   "outputs": [
    {
     "name": "stdout",
     "output_type": "stream",
     "text": [
      "Epoch 1/20\n",
      "  35/1641 [..............................] - ETA: 8:00 - loss: 0.8352"
     ]
    },
    {
     "ename": "KeyboardInterrupt",
     "evalue": "",
     "output_type": "error",
     "traceback": [
      "\u001b[0;31m---------------------------------------------------------------------------\u001b[0m",
      "\u001b[0;31mKeyboardInterrupt\u001b[0m                         Traceback (most recent call last)",
      "\u001b[0;32m<ipython-input-54-6f3b8ba8c1c1>\u001b[0m in \u001b[0;36m<module>\u001b[0;34m\u001b[0m\n\u001b[0;32m----> 1\u001b[0;31m \u001b[0mmodel\u001b[0m\u001b[0;34m.\u001b[0m\u001b[0mfit\u001b[0m\u001b[0;34m(\u001b[0m\u001b[0;34m[\u001b[0m\u001b[0mx_user_train\u001b[0m\u001b[0;34m,\u001b[0m \u001b[0mx_sys_train\u001b[0m\u001b[0;34m,\u001b[0m \u001b[0mdata\u001b[0m\u001b[0;34m.\u001b[0m\u001b[0mx_train\u001b[0m\u001b[0;34m]\u001b[0m\u001b[0;34m,\u001b[0m \u001b[0mdata\u001b[0m\u001b[0;34m.\u001b[0m\u001b[0my_train\u001b[0m\u001b[0;34m,\u001b[0m \u001b[0mepochs\u001b[0m\u001b[0;34m=\u001b[0m\u001b[0;36m20\u001b[0m\u001b[0;34m)\u001b[0m\u001b[0;34m\u001b[0m\u001b[0;34m\u001b[0m\u001b[0m\n\u001b[0m",
      "\u001b[0;32m/usr/local/lib/python3.8/site-packages/tensorflow/python/keras/engine/training.py\u001b[0m in \u001b[0;36m_method_wrapper\u001b[0;34m(self, *args, **kwargs)\u001b[0m\n\u001b[1;32m     64\u001b[0m   \u001b[0;32mdef\u001b[0m \u001b[0m_method_wrapper\u001b[0m\u001b[0;34m(\u001b[0m\u001b[0mself\u001b[0m\u001b[0;34m,\u001b[0m \u001b[0;34m*\u001b[0m\u001b[0margs\u001b[0m\u001b[0;34m,\u001b[0m \u001b[0;34m**\u001b[0m\u001b[0mkwargs\u001b[0m\u001b[0;34m)\u001b[0m\u001b[0;34m:\u001b[0m\u001b[0;34m\u001b[0m\u001b[0;34m\u001b[0m\u001b[0m\n\u001b[1;32m     65\u001b[0m     \u001b[0;32mif\u001b[0m \u001b[0;32mnot\u001b[0m \u001b[0mself\u001b[0m\u001b[0;34m.\u001b[0m\u001b[0m_in_multi_worker_mode\u001b[0m\u001b[0;34m(\u001b[0m\u001b[0;34m)\u001b[0m\u001b[0;34m:\u001b[0m  \u001b[0;31m# pylint: disable=protected-access\u001b[0m\u001b[0;34m\u001b[0m\u001b[0;34m\u001b[0m\u001b[0m\n\u001b[0;32m---> 66\u001b[0;31m       \u001b[0;32mreturn\u001b[0m \u001b[0mmethod\u001b[0m\u001b[0;34m(\u001b[0m\u001b[0mself\u001b[0m\u001b[0;34m,\u001b[0m \u001b[0;34m*\u001b[0m\u001b[0margs\u001b[0m\u001b[0;34m,\u001b[0m \u001b[0;34m**\u001b[0m\u001b[0mkwargs\u001b[0m\u001b[0;34m)\u001b[0m\u001b[0;34m\u001b[0m\u001b[0;34m\u001b[0m\u001b[0m\n\u001b[0m\u001b[1;32m     67\u001b[0m \u001b[0;34m\u001b[0m\u001b[0m\n\u001b[1;32m     68\u001b[0m     \u001b[0;31m# Running inside `run_distribute_coordinator` already.\u001b[0m\u001b[0;34m\u001b[0m\u001b[0;34m\u001b[0m\u001b[0;34m\u001b[0m\u001b[0m\n",
      "\u001b[0;32m/usr/local/lib/python3.8/site-packages/tensorflow/python/keras/engine/training.py\u001b[0m in \u001b[0;36mfit\u001b[0;34m(self, x, y, batch_size, epochs, verbose, callbacks, validation_split, validation_data, shuffle, class_weight, sample_weight, initial_epoch, steps_per_epoch, validation_steps, validation_batch_size, validation_freq, max_queue_size, workers, use_multiprocessing)\u001b[0m\n\u001b[1;32m    846\u001b[0m                 batch_size=batch_size):\n\u001b[1;32m    847\u001b[0m               \u001b[0mcallbacks\u001b[0m\u001b[0;34m.\u001b[0m\u001b[0mon_train_batch_begin\u001b[0m\u001b[0;34m(\u001b[0m\u001b[0mstep\u001b[0m\u001b[0;34m)\u001b[0m\u001b[0;34m\u001b[0m\u001b[0;34m\u001b[0m\u001b[0m\n\u001b[0;32m--> 848\u001b[0;31m               \u001b[0mtmp_logs\u001b[0m \u001b[0;34m=\u001b[0m \u001b[0mtrain_function\u001b[0m\u001b[0;34m(\u001b[0m\u001b[0miterator\u001b[0m\u001b[0;34m)\u001b[0m\u001b[0;34m\u001b[0m\u001b[0;34m\u001b[0m\u001b[0m\n\u001b[0m\u001b[1;32m    849\u001b[0m               \u001b[0;31m# Catch OutOfRangeError for Datasets of unknown size.\u001b[0m\u001b[0;34m\u001b[0m\u001b[0;34m\u001b[0m\u001b[0;34m\u001b[0m\u001b[0m\n\u001b[1;32m    850\u001b[0m               \u001b[0;31m# This blocks until the batch has finished executing.\u001b[0m\u001b[0;34m\u001b[0m\u001b[0;34m\u001b[0m\u001b[0;34m\u001b[0m\u001b[0m\n",
      "\u001b[0;32m/usr/local/lib/python3.8/site-packages/tensorflow/python/eager/def_function.py\u001b[0m in \u001b[0;36m__call__\u001b[0;34m(self, *args, **kwds)\u001b[0m\n\u001b[1;32m    578\u001b[0m         \u001b[0mxla_context\u001b[0m\u001b[0;34m.\u001b[0m\u001b[0mExit\u001b[0m\u001b[0;34m(\u001b[0m\u001b[0;34m)\u001b[0m\u001b[0;34m\u001b[0m\u001b[0;34m\u001b[0m\u001b[0m\n\u001b[1;32m    579\u001b[0m     \u001b[0;32melse\u001b[0m\u001b[0;34m:\u001b[0m\u001b[0;34m\u001b[0m\u001b[0;34m\u001b[0m\u001b[0m\n\u001b[0;32m--> 580\u001b[0;31m       \u001b[0mresult\u001b[0m \u001b[0;34m=\u001b[0m \u001b[0mself\u001b[0m\u001b[0;34m.\u001b[0m\u001b[0m_call\u001b[0m\u001b[0;34m(\u001b[0m\u001b[0;34m*\u001b[0m\u001b[0margs\u001b[0m\u001b[0;34m,\u001b[0m \u001b[0;34m**\u001b[0m\u001b[0mkwds\u001b[0m\u001b[0;34m)\u001b[0m\u001b[0;34m\u001b[0m\u001b[0;34m\u001b[0m\u001b[0m\n\u001b[0m\u001b[1;32m    581\u001b[0m \u001b[0;34m\u001b[0m\u001b[0m\n\u001b[1;32m    582\u001b[0m     \u001b[0;32mif\u001b[0m \u001b[0mtracing_count\u001b[0m \u001b[0;34m==\u001b[0m \u001b[0mself\u001b[0m\u001b[0;34m.\u001b[0m\u001b[0m_get_tracing_count\u001b[0m\u001b[0;34m(\u001b[0m\u001b[0;34m)\u001b[0m\u001b[0;34m:\u001b[0m\u001b[0;34m\u001b[0m\u001b[0;34m\u001b[0m\u001b[0m\n",
      "\u001b[0;32m/usr/local/lib/python3.8/site-packages/tensorflow/python/eager/def_function.py\u001b[0m in \u001b[0;36m_call\u001b[0;34m(self, *args, **kwds)\u001b[0m\n\u001b[1;32m    609\u001b[0m       \u001b[0;31m# In this case we have created variables on the first call, so we run the\u001b[0m\u001b[0;34m\u001b[0m\u001b[0;34m\u001b[0m\u001b[0;34m\u001b[0m\u001b[0m\n\u001b[1;32m    610\u001b[0m       \u001b[0;31m# defunned version which is guaranteed to never create variables.\u001b[0m\u001b[0;34m\u001b[0m\u001b[0;34m\u001b[0m\u001b[0;34m\u001b[0m\u001b[0m\n\u001b[0;32m--> 611\u001b[0;31m       \u001b[0;32mreturn\u001b[0m \u001b[0mself\u001b[0m\u001b[0;34m.\u001b[0m\u001b[0m_stateless_fn\u001b[0m\u001b[0;34m(\u001b[0m\u001b[0;34m*\u001b[0m\u001b[0margs\u001b[0m\u001b[0;34m,\u001b[0m \u001b[0;34m**\u001b[0m\u001b[0mkwds\u001b[0m\u001b[0;34m)\u001b[0m  \u001b[0;31m# pylint: disable=not-callable\u001b[0m\u001b[0;34m\u001b[0m\u001b[0;34m\u001b[0m\u001b[0m\n\u001b[0m\u001b[1;32m    612\u001b[0m     \u001b[0;32melif\u001b[0m \u001b[0mself\u001b[0m\u001b[0;34m.\u001b[0m\u001b[0m_stateful_fn\u001b[0m \u001b[0;32mis\u001b[0m \u001b[0;32mnot\u001b[0m \u001b[0;32mNone\u001b[0m\u001b[0;34m:\u001b[0m\u001b[0;34m\u001b[0m\u001b[0;34m\u001b[0m\u001b[0m\n\u001b[1;32m    613\u001b[0m       \u001b[0;31m# Release the lock early so that multiple threads can perform the call\u001b[0m\u001b[0;34m\u001b[0m\u001b[0;34m\u001b[0m\u001b[0;34m\u001b[0m\u001b[0m\n",
      "\u001b[0;32m/usr/local/lib/python3.8/site-packages/tensorflow/python/eager/function.py\u001b[0m in \u001b[0;36m__call__\u001b[0;34m(self, *args, **kwargs)\u001b[0m\n\u001b[1;32m   2418\u001b[0m     \u001b[0;32mwith\u001b[0m \u001b[0mself\u001b[0m\u001b[0;34m.\u001b[0m\u001b[0m_lock\u001b[0m\u001b[0;34m:\u001b[0m\u001b[0;34m\u001b[0m\u001b[0;34m\u001b[0m\u001b[0m\n\u001b[1;32m   2419\u001b[0m       \u001b[0mgraph_function\u001b[0m\u001b[0;34m,\u001b[0m \u001b[0margs\u001b[0m\u001b[0;34m,\u001b[0m \u001b[0mkwargs\u001b[0m \u001b[0;34m=\u001b[0m \u001b[0mself\u001b[0m\u001b[0;34m.\u001b[0m\u001b[0m_maybe_define_function\u001b[0m\u001b[0;34m(\u001b[0m\u001b[0margs\u001b[0m\u001b[0;34m,\u001b[0m \u001b[0mkwargs\u001b[0m\u001b[0;34m)\u001b[0m\u001b[0;34m\u001b[0m\u001b[0;34m\u001b[0m\u001b[0m\n\u001b[0;32m-> 2420\u001b[0;31m     \u001b[0;32mreturn\u001b[0m \u001b[0mgraph_function\u001b[0m\u001b[0;34m.\u001b[0m\u001b[0m_filtered_call\u001b[0m\u001b[0;34m(\u001b[0m\u001b[0margs\u001b[0m\u001b[0;34m,\u001b[0m \u001b[0mkwargs\u001b[0m\u001b[0;34m)\u001b[0m  \u001b[0;31m# pylint: disable=protected-access\u001b[0m\u001b[0;34m\u001b[0m\u001b[0;34m\u001b[0m\u001b[0m\n\u001b[0m\u001b[1;32m   2421\u001b[0m \u001b[0;34m\u001b[0m\u001b[0m\n\u001b[1;32m   2422\u001b[0m   \u001b[0;34m@\u001b[0m\u001b[0mproperty\u001b[0m\u001b[0;34m\u001b[0m\u001b[0;34m\u001b[0m\u001b[0m\n",
      "\u001b[0;32m/usr/local/lib/python3.8/site-packages/tensorflow/python/eager/function.py\u001b[0m in \u001b[0;36m_filtered_call\u001b[0;34m(self, args, kwargs)\u001b[0m\n\u001b[1;32m   1659\u001b[0m       \u001b[0;31m`\u001b[0m\u001b[0margs\u001b[0m\u001b[0;31m`\u001b[0m \u001b[0;32mand\u001b[0m\u001b[0;31m \u001b[0m\u001b[0;31m`\u001b[0m\u001b[0mkwargs\u001b[0m\u001b[0;31m`\u001b[0m\u001b[0;34m.\u001b[0m\u001b[0;34m\u001b[0m\u001b[0;34m\u001b[0m\u001b[0m\n\u001b[1;32m   1660\u001b[0m     \"\"\"\n\u001b[0;32m-> 1661\u001b[0;31m     return self._call_flat(\n\u001b[0m\u001b[1;32m   1662\u001b[0m         (t for t in nest.flatten((args, kwargs), expand_composites=True)\n\u001b[1;32m   1663\u001b[0m          if isinstance(t, (ops.Tensor,\n",
      "\u001b[0;32m/usr/local/lib/python3.8/site-packages/tensorflow/python/eager/function.py\u001b[0m in \u001b[0;36m_call_flat\u001b[0;34m(self, args, captured_inputs, cancellation_manager)\u001b[0m\n\u001b[1;32m   1743\u001b[0m         and executing_eagerly):\n\u001b[1;32m   1744\u001b[0m       \u001b[0;31m# No tape is watching; skip to running the function.\u001b[0m\u001b[0;34m\u001b[0m\u001b[0;34m\u001b[0m\u001b[0;34m\u001b[0m\u001b[0m\n\u001b[0;32m-> 1745\u001b[0;31m       return self._build_call_outputs(self._inference_function.call(\n\u001b[0m\u001b[1;32m   1746\u001b[0m           ctx, args, cancellation_manager=cancellation_manager))\n\u001b[1;32m   1747\u001b[0m     forward_backward = self._select_forward_and_backward_functions(\n",
      "\u001b[0;32m/usr/local/lib/python3.8/site-packages/tensorflow/python/eager/function.py\u001b[0m in \u001b[0;36mcall\u001b[0;34m(self, ctx, args, cancellation_manager)\u001b[0m\n\u001b[1;32m    591\u001b[0m       \u001b[0;32mwith\u001b[0m \u001b[0m_InterpolateFunctionError\u001b[0m\u001b[0;34m(\u001b[0m\u001b[0mself\u001b[0m\u001b[0;34m)\u001b[0m\u001b[0;34m:\u001b[0m\u001b[0;34m\u001b[0m\u001b[0;34m\u001b[0m\u001b[0m\n\u001b[1;32m    592\u001b[0m         \u001b[0;32mif\u001b[0m \u001b[0mcancellation_manager\u001b[0m \u001b[0;32mis\u001b[0m \u001b[0;32mNone\u001b[0m\u001b[0;34m:\u001b[0m\u001b[0;34m\u001b[0m\u001b[0;34m\u001b[0m\u001b[0m\n\u001b[0;32m--> 593\u001b[0;31m           outputs = execute.execute(\n\u001b[0m\u001b[1;32m    594\u001b[0m               \u001b[0mstr\u001b[0m\u001b[0;34m(\u001b[0m\u001b[0mself\u001b[0m\u001b[0;34m.\u001b[0m\u001b[0msignature\u001b[0m\u001b[0;34m.\u001b[0m\u001b[0mname\u001b[0m\u001b[0;34m)\u001b[0m\u001b[0;34m,\u001b[0m\u001b[0;34m\u001b[0m\u001b[0;34m\u001b[0m\u001b[0m\n\u001b[1;32m    595\u001b[0m               \u001b[0mnum_outputs\u001b[0m\u001b[0;34m=\u001b[0m\u001b[0mself\u001b[0m\u001b[0;34m.\u001b[0m\u001b[0m_num_outputs\u001b[0m\u001b[0;34m,\u001b[0m\u001b[0;34m\u001b[0m\u001b[0;34m\u001b[0m\u001b[0m\n",
      "\u001b[0;32m/usr/local/lib/python3.8/site-packages/tensorflow/python/eager/execute.py\u001b[0m in \u001b[0;36mquick_execute\u001b[0;34m(op_name, num_outputs, inputs, attrs, ctx, name)\u001b[0m\n\u001b[1;32m     57\u001b[0m   \u001b[0;32mtry\u001b[0m\u001b[0;34m:\u001b[0m\u001b[0;34m\u001b[0m\u001b[0;34m\u001b[0m\u001b[0m\n\u001b[1;32m     58\u001b[0m     \u001b[0mctx\u001b[0m\u001b[0;34m.\u001b[0m\u001b[0mensure_initialized\u001b[0m\u001b[0;34m(\u001b[0m\u001b[0;34m)\u001b[0m\u001b[0;34m\u001b[0m\u001b[0;34m\u001b[0m\u001b[0m\n\u001b[0;32m---> 59\u001b[0;31m     tensors = pywrap_tfe.TFE_Py_Execute(ctx._handle, device_name, op_name,\n\u001b[0m\u001b[1;32m     60\u001b[0m                                         inputs, attrs, num_outputs)\n\u001b[1;32m     61\u001b[0m   \u001b[0;32mexcept\u001b[0m \u001b[0mcore\u001b[0m\u001b[0;34m.\u001b[0m\u001b[0m_NotOkStatusException\u001b[0m \u001b[0;32mas\u001b[0m \u001b[0me\u001b[0m\u001b[0;34m:\u001b[0m\u001b[0;34m\u001b[0m\u001b[0;34m\u001b[0m\u001b[0m\n",
      "\u001b[0;31mKeyboardInterrupt\u001b[0m: "
     ]
    }
   ],
   "source": [
    "model.fit([x_user_train, x_sys_train, data.x_train], data.y_train, epochs=20)"
   ]
  },
  {
   "cell_type": "code",
   "execution_count": null,
   "metadata": {},
   "outputs": [],
   "source": []
  }
 ],
 "metadata": {
  "kernelspec": {
   "display_name": "Python 3",
   "language": "python",
   "name": "python3"
  },
  "language_info": {
   "codemirror_mode": {
    "name": "ipython",
    "version": 3
   },
   "file_extension": ".py",
   "mimetype": "text/x-python",
   "name": "python",
   "nbconvert_exporter": "python",
   "pygments_lexer": "ipython3",
   "version": "3.8.5"
  }
 },
 "nbformat": 4,
 "nbformat_minor": 4
}
