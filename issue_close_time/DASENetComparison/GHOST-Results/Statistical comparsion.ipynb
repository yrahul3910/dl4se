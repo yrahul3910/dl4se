{
 "cells": [
  {
   "cell_type": "code",
   "execution_count": 1,
   "metadata": {},
   "outputs": [],
   "source": [
    "import glob\n",
    "import statistics\n",
    "from numpy import array"
   ]
  },
  {
   "cell_type": "code",
   "execution_count": 2,
   "metadata": {},
   "outputs": [],
   "source": [
    "files = glob.glob('./*.txt')"
   ]
  },
  {
   "cell_type": "code",
   "execution_count": 3,
   "metadata": {},
   "outputs": [
    {
     "data": {
      "text/plain": [
       "['./firefox-5class.txt',\n",
       " './chromium-7class.txt',\n",
       " './eclipse-5class.txt',\n",
       " './eclipse-3class.txt',\n",
       " './eclipse-9class.txt',\n",
       " './firefox-3class.txt',\n",
       " './firefox-9class.txt',\n",
       " './eclipse-7class.txt',\n",
       " './firefox-7class.txt',\n",
       " './chromium-9class.txt',\n",
       " './chromium-3class.txt']"
      ]
     },
     "execution_count": 3,
     "metadata": {},
     "output_type": "execute_result"
    }
   ],
   "source": [
    "files"
   ]
  },
  {
   "cell_type": "code",
   "execution_count": 4,
   "metadata": {},
   "outputs": [],
   "source": [
    "deeptriage_results = {\n",
    "    'firefox-2class': 0.668,\n",
    "    'firefox-3class': 0.436,\n",
    "    'firefox-5class': 0.307,\n",
    "    'firefox-7class': 0.207,\n",
    "    'firefox-9class': 0.186,\n",
    "    \n",
    "    'chromium-2class': 0.627,\n",
    "    'chromium-3class': 0.426,\n",
    "    'chromium-5class': 0.272,\n",
    "    'chromium-7class': 0.219,\n",
    "    'chromium-9class': 0.189,\n",
    "    \n",
    "    'eclipse-2class': 0.612,\n",
    "    'eclipse-3class': 0.441,\n",
    "    'eclipse-5class': 0.266,\n",
    "    'eclipse-7class': 0.201,\n",
    "    'eclipse-9class': 0.185\n",
    "}"
   ]
  },
  {
   "cell_type": "code",
   "execution_count": 10,
   "metadata": {},
   "outputs": [
    {
     "name": "stdout",
     "output_type": "stream",
     "text": [
      "./firefox-5class.txt\n",
      "FAIL\n",
      "\n",
      "./chromium-7class.txt\n",
      "[0.2872407291011942, 0.2844408890920519, 0.27444146048797213, 0.27666990457688134, 0.28884063767784696, 0.2834123764356323, 0.1853036969316039, 0.1853036969316039, 0.28524084338037825, 0.28501228501228504]\n",
      "cohen d = 0.04 | BETTER\n",
      "\n",
      "./eclipse-5class.txt\n",
      "[0.344894577452717, 0.34432318153248387, 0.3416376207073881, 0.33763784926575624, 0.3466659048054397, 0.3380949660019427, 0.338323524370036, 0.34472315867664705, 0.3345523112964973, 0.24678589794868866]\n",
      "cohen d = 0.03 | BETTER\n",
      "\n",
      "./eclipse-3class.txt\n",
      "[0.5620250271413062, 0.5457973830066853, 0.5606536769327467, 0.5542540426261356, 0.5620250271413062, 0.5472830123992914, 0.5555111136506485, 0.46105936803611225, 0.5191703331238215, 0.46105936803611225]\n",
      "cohen d = 0.04 | BETTER\n",
      "\n",
      "./eclipse-9class.txt\n",
      "[0.3248385806525341, 0.32403862636420777, 0.3180389692017599, 0.32438146391634765, 0.3242100451402777, 0.32346723044397463, 0.3248385806525341, 0.32352437003599793, 0.32403862636420777, 0.3247814410605108]\n",
      "cohen d = 0.04 | BETTER\n",
      "\n",
      "./firefox-3class.txt\n",
      "[0.5337980686817896, 0.3620364550597109, 0.3620364550597109, 0.4987143591794755, 0.5298554368321811, 0.5055139706302497, 0.3620364550597109, 0.518541797611565, 0.5176275641391921, 0.5055139706302497]\n",
      "cohen d = 0.06 | BETTER\n",
      "\n",
      "./firefox-9class.txt\n",
      "[0.23147248728644076]\n",
      "cohen d = 0.03 | BETTER\n",
      "\n",
      "./eclipse-7class.txt\n",
      "[0.2823838637792126, 0.30415404834009485, 0.30106851037083593, 0.3024970001714188, 0.2968973201531341, 0.2964973430089709, 0.21055939660590822, 0.2099880006856751, 0.2099880006856751, 0.2099880006856751]\n",
      "cohen d = 0.04 | BETTER\n",
      "\n",
      "./firefox-7class.txt\n",
      "[0.34780869664590597]\n",
      "cohen d = 0.09 | BETTER\n",
      "\n",
      "./chromium-9class.txt\n",
      "[0.27095594537455003, 0.2764413462087881, 0.27678418376092795, 0.2700988514942003, 0.2757556711045083, 0.2736415061996457, 0.27552711273641506, 0.2750699960002286, 0.27335580823952915, 0.16576195645963088]\n",
      "cohen d = 0.04 | BETTER\n",
      "\n",
      "./chromium-3class.txt\n",
      "[0.5467687560710817, 0.5476829895434546, 0.544997428718359, 0.44008913776355635, 0.5448831495343123, 0.5460259413747786, 0.5459688017827553, 0.5477972687275013, 0.547397291583338, 0.5482543854636878]\n",
      "cohen d = 0.04 | BETTER\n",
      "\n"
     ]
    }
   ],
   "source": [
    "for file in files:\n",
    "    print(file)\n",
    "    f = open(file, 'r')\n",
    "    line = f.readlines()[-1]\n",
    "    f.close()\n",
    "    \n",
    "    try:\n",
    "        results = eval(line)[29]\n",
    "        print(results)\n",
    "        results.append(deeptriage_results[file[2:].split('.')[0]])\n",
    "        n = len(results)\n",
    "        d = round(.9 * statistics.stdev(results), 2)\n",
    "        print('cohen d =', d, end=' | ')\n",
    "        \n",
    "        our_results = statistics.median(results[:n - 1])\n",
    "        their_results = results[n - 1]\n",
    "        \n",
    "        if our_results - their_results >= d:\n",
    "            print('BETTER')\n",
    "        elif their_results - our_results >= d:\n",
    "            print('WORSE')\n",
    "        else:\n",
    "            print('SAME')\n",
    "    except:\n",
    "        print('FAIL')\n",
    "    \n",
    "    print()"
   ]
  },
  {
   "cell_type": "markdown",
   "metadata": {},
   "source": [
    "## Comparison with DODGE"
   ]
  },
  {
   "cell_type": "code",
   "execution_count": 5,
   "metadata": {},
   "outputs": [],
   "source": [
    "from raise_utils.interpret.sk import Rx\n",
    "from raise_utils.interpret import DODGEInterpreter"
   ]
  },
  {
   "cell_type": "code",
   "execution_count": 12,
   "metadata": {},
   "outputs": [
    {
     "name": "stdout",
     "output_type": "stream",
     "text": [
      "./chromium-7class.txt\n",
      "   1      dodge (        *                |                        ), 0.172,  0.173,  0.174,  0.174,  0.176\n",
      "   2      ghost (             -*          |                        ), 0.185,  0.277,  0.284,  0.285,  0.289\n",
      "\n",
      "./eclipse-5class.txt\n",
      "   1      dodge (           *             |                        ), 0.234,  0.234,  0.235,  0.235,  0.236\n",
      "   2      ghost (                -*       |                        ), 0.335,  0.338,  0.342,  0.345,  0.347\n",
      "\n",
      "./eclipse-3class.txt\n",
      "   1      dodge (                *        |                        ), 0.333,  0.334,  0.335,  0.336,  0.342\n",
      "   2      ghost (                         | *                      ), 0.461,  0.546,  0.554,  0.561,  0.562\n",
      "\n",
      "./eclipse-9class.txt\n",
      "   1      dodge (        *                |                        ), 0.169,  0.170,  0.172,  0.173,  0.174\n",
      "   2      ghost (                *        |                        ), 0.323,  0.324,  0.324,  0.325,  0.325\n",
      "\n",
      "./firefox-3class.txt\n",
      "   1      dodge (                     *   |                        ), 0.421,  0.421,  0.422,  0.422,  0.423\n",
      "   2      ghost (                        -*                        ), 0.362,  0.499,  0.506,  0.519,  0.534\n",
      "\n",
      "./firefox-9class.txt\n",
      "   1      dodge (         *               |                        ), 0.180,  0.180,  0.180,  0.181,  0.181\n",
      "   2      ghost (           *             |                        ), 0.231,  0.231,  0.231,  0.231,  0.231\n",
      "\n",
      "./eclipse-7class.txt\n",
      "   1      dodge (        *                |                        ), 0.172,  0.172,  0.173,  0.174,  0.175\n",
      "   2      ghost (          ----*          |                        ), 0.210,  0.211,  0.296,  0.301,  0.304\n",
      "\n",
      "./firefox-7class.txt\n",
      "   1      dodge (         *               |                        ), 0.180,  0.180,  0.180,  0.181,  0.181\n",
      "   2      ghost (                 *       |                        ), 0.348,  0.348,  0.348,  0.348,  0.348\n",
      "\n",
      "./chromium-9class.txt\n",
      "   1      dodge (        *                |                        ), 0.177,  0.177,  0.178,  0.178,  0.178\n",
      "   2      ghost (             *           |                        ), 0.270,  0.273,  0.275,  0.276,  0.277\n",
      "\n",
      "./chromium-3class.txt\n",
      "   1      dodge (                  *      |                        ), 0.360,  0.360,  0.361,  0.362,  0.363\n",
      "   2      ghost (                         | *                      ), 0.545,  0.546,  0.547,  0.548,  0.548\n",
      "\n"
     ]
    }
   ],
   "source": [
    "for file in files[1:]:\n",
    "    print(file)\n",
    "    file_split = file.split('-')\n",
    "    dodge_file =  file_split[0] + '-' + file_split[1][0] + '.txt'\n",
    "    interp = DODGEInterpreter(files=['../dodge-log/' + dodge_file], max_by=0, metrics=['acc'])\n",
    "    \n",
    "    # GHOST\n",
    "    f = open(file, 'r')\n",
    "    line = f.readlines()[-1]\n",
    "    f.close()\n",
    "    \n",
    "    try:\n",
    "        ghost_results = eval(line)[29]\n",
    "        dodge_results = interp.interpret()[dodge_file.split('./')[1]]['acc']\n",
    "        \n",
    "        dic = {'dodge': dodge_results, 'ghost': ghost_results}\n",
    "        Rx.show(Rx.sk(Rx.data(**dic)))\n",
    "    except:\n",
    "        raise\n",
    "        print('FAIL.')\n",
    "    \n",
    "    print()"
   ]
  },
  {
   "cell_type": "code",
   "execution_count": null,
   "metadata": {},
   "outputs": [],
   "source": []
  }
 ],
 "metadata": {
  "kernelspec": {
   "display_name": "Python 3",
   "language": "python",
   "name": "python3"
  },
  "language_info": {
   "codemirror_mode": {
    "name": "ipython",
    "version": 3
   },
   "file_extension": ".py",
   "mimetype": "text/x-python",
   "name": "python",
   "nbconvert_exporter": "python",
   "pygments_lexer": "ipython3",
   "version": "3.8.6"
  }
 },
 "nbformat": 4,
 "nbformat_minor": 4
}
