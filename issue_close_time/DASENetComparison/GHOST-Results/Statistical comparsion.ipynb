{
 "cells": [
  {
   "cell_type": "code",
   "execution_count": 5,
   "metadata": {},
   "outputs": [],
   "source": [
    "import glob\n",
    "import statistics\n",
    "from numpy import array"
   ]
  },
  {
   "cell_type": "code",
   "execution_count": 2,
   "metadata": {},
   "outputs": [],
   "source": [
    "files = glob.glob('./*.txt')"
   ]
  },
  {
   "cell_type": "code",
   "execution_count": 3,
   "metadata": {},
   "outputs": [
    {
     "data": {
      "text/plain": [
       "['./firefox-5class.txt',\n",
       " './chromium-7class.txt',\n",
       " './eclipse-5class.txt',\n",
       " './eclipse-3class.txt',\n",
       " './eclipse-9class.txt',\n",
       " './firefox-3class.txt',\n",
       " './firefox-9class.txt',\n",
       " './eclipse-7class.txt',\n",
       " './firefox-7class.txt',\n",
       " './chromium-9class.txt',\n",
       " './chromium-3class.txt']"
      ]
     },
     "execution_count": 3,
     "metadata": {},
     "output_type": "execute_result"
    }
   ],
   "source": [
    "files"
   ]
  },
  {
   "cell_type": "code",
   "execution_count": 9,
   "metadata": {},
   "outputs": [],
   "source": [
    "deeptriage_results = {\n",
    "    'firefox-2class': 0.668,\n",
    "    'firefox-3class': 0.436,\n",
    "    'firefox-5class': 0.307,\n",
    "    'firefox-7class': 0.207,\n",
    "    'firefox-9class': 0.186,\n",
    "    \n",
    "    'chromium-2class': 0.627,\n",
    "    'chromium-3class': 0.426,\n",
    "    'chromium-5class': 0.272,\n",
    "    'chromium-7class': 0.219,\n",
    "    'chromium-9class': 0.189,\n",
    "    \n",
    "    'eclipse-2class': 0.612,\n",
    "    'eclipse-3class': 0.441,\n",
    "    'eclipse-5class': 0.266,\n",
    "    'eclipse-7class': 0.201,\n",
    "    'eclipse-9class': 0.185\n",
    "}"
   ]
  },
  {
   "cell_type": "code",
   "execution_count": 12,
   "metadata": {},
   "outputs": [
    {
     "name": "stdout",
     "output_type": "stream",
     "text": [
      "./firefox-5class.txt: FAIL\n",
      "\n",
      "./chromium-7class.txt: cohen d = 0.01 | BETTER\n",
      "\n",
      "./eclipse-5class.txt: cohen d = 0.01 | BETTER\n",
      "\n",
      "./eclipse-3class.txt: cohen d = 0.01 | BETTER\n",
      "\n",
      "./eclipse-9class.txt: cohen d = 0.01 | BETTER\n",
      "\n",
      "./firefox-3class.txt: cohen d = 0.02 | BETTER\n",
      "\n",
      "./firefox-9class.txt: cohen d = 0.01 | BETTER\n",
      "\n",
      "./eclipse-7class.txt: cohen d = 0.01 | BETTER\n",
      "\n",
      "./firefox-7class.txt: cohen d = 0.03 | BETTER\n",
      "\n",
      "./chromium-9class.txt: cohen d = 0.01 | BETTER\n",
      "\n",
      "./chromium-3class.txt: cohen d = 0.01 | BETTER\n",
      "\n"
     ]
    }
   ],
   "source": [
    "for file in files:\n",
    "    print(file, end=': ')\n",
    "    f = open(file, 'r')\n",
    "    line = f.readlines()[-1]\n",
    "    f.close()\n",
    "    \n",
    "    try:\n",
    "        results = eval(line)[29]\n",
    "        results.append(deeptriage_results[file[2:].split('.')[0]])\n",
    "        n = len(results)\n",
    "        d = round(0.3 * statistics.stdev(results), 2)\n",
    "        print('cohen d =', d, end=' | ')\n",
    "        \n",
    "        our_results = statistics.median(results[:n - 1])\n",
    "        their_results = results[n - 1]\n",
    "        \n",
    "        if our_results - their_results >= d:\n",
    "            print('BETTER')\n",
    "        elif their_results - our_results >= d:\n",
    "            print('WORSE')\n",
    "        else:\n",
    "            print('SAME')\n",
    "    except:\n",
    "        print('FAIL')\n",
    "    \n",
    "    print()"
   ]
  },
  {
   "cell_type": "code",
   "execution_count": null,
   "metadata": {},
   "outputs": [],
   "source": []
  }
 ],
 "metadata": {
  "kernelspec": {
   "display_name": "Python 3",
   "language": "python",
   "name": "python3"
  },
  "language_info": {
   "codemirror_mode": {
    "name": "ipython",
    "version": 3
   },
   "file_extension": ".py",
   "mimetype": "text/x-python",
   "name": "python",
   "nbconvert_exporter": "python",
   "pygments_lexer": "ipython3",
   "version": "3.8.5"
  }
 },
 "nbformat": 4,
 "nbformat_minor": 4
}
