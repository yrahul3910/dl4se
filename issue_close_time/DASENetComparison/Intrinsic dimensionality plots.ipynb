{
 "cells": [
  {
   "cell_type": "code",
   "execution_count": 1,
   "metadata": {},
   "outputs": [],
   "source": [
    "import matplotlib.pyplot as plt"
   ]
  },
  {
   "cell_type": "code",
   "execution_count": 2,
   "metadata": {},
   "outputs": [],
   "source": [
    "firefox_dims = [1.69040754, 1.82490198, 1.87031111, 2.05554985, 2.15295295, 2.12736527,\n",
    "  2.06430386, 1.98596697, 1.94698828, 2.12543777, 2.43196309, 2.46894606,\n",
    "  2.41651349, 2.42478422, 2.31572103, 2.17873785, 1.98785259, 1.74284346,\n",
    "  1.42796455]"
   ]
  },
  {
   "cell_type": "code",
   "execution_count": 3,
   "metadata": {},
   "outputs": [],
   "source": [
    "chromium_dims = [1.45012951, 1.47154218, 1.44735983, 1.50873206, 1.61080364, 1.85861922,\n",
    "  2.00945499, 2.00239938, 1.99532968, 2.09197567, 2.18371638, 2.31535863,\n",
    "  2.27238217, 2.19980535, 2.07771238, 1.91650505, 1.71707645, 1.48025626,\n",
    "  1.19941034]"
   ]
  },
  {
   "cell_type": "code",
   "execution_count": 4,
   "metadata": {},
   "outputs": [],
   "source": [
    "eclipse_dims = []"
   ]
  },
  {
   "cell_type": "code",
   "execution_count": 6,
   "metadata": {},
   "outputs": [
    {
     "data": {
      "image/png": "[encoded data removed]",
      "text/plain": [
       "<Figure size 432x288 with 1 Axes>"
      ]
     },
     "metadata": {
      "needs_background": "light"
     },
     "output_type": "display_data"
    }
   ],
   "source": [
    "plt.boxplot([firefox_dims, chromium_dims, eclipse_dims], labels=['firefox', 'chromium', 'eclipse']);"
   ]
  },
  {
   "cell_type": "code",
   "execution_count": null,
   "metadata": {},
   "outputs": [],
   "source": []
  }
 ],
 "metadata": {
  "kernelspec": {
   "display_name": "Python 3",
   "language": "python",
   "name": "python3"
  },
  "language_info": {
   "codemirror_mode": {
    "name": "ipython",
    "version": 3
   },
   "file_extension": ".py",
   "mimetype": "text/x-python",
   "name": "python",
   "nbconvert_exporter": "python",
   "pygments_lexer": "ipython3",
   "version": "3.8.5"
  }
 },
 "nbformat": 4,
 "nbformat_minor": 4
}
