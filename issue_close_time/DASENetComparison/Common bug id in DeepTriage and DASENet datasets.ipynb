{
 "cells": [
  {
   "cell_type": "code",
   "execution_count": 1,
   "metadata": {},
   "outputs": [],
   "source": [
    "import pandas as pd\n",
    "import numpy as np\n",
    "import json\n",
    "import gc"
   ]
  },
  {
   "cell_type": "code",
   "execution_count": 2,
   "metadata": {},
   "outputs": [],
   "source": [
    "# DASENet data\n",
    "dasenet_path = './Bug-Related-Activity-Logs/chromium.csv'\n",
    "\n",
    "# DeepTriage data\n",
    "triage_path = '../../../Data/DeepTriage/Chromium/all_data.json'"
   ]
  },
  {
   "cell_type": "code",
   "execution_count": 3,
   "metadata": {},
   "outputs": [],
   "source": [
    "dasenet_df = pd.read_csv(dasenet_path)"
   ]
  },
  {
   "cell_type": "code",
   "execution_count": 4,
   "metadata": {},
   "outputs": [
    {
     "data": {
      "text/html": [
       "<div>\n",
       "<style scoped>\n",
       "    .dataframe tbody tr th:only-of-type {\n",
       "        vertical-align: middle;\n",
       "    }\n",
       "\n",
       "    .dataframe tbody tr th {\n",
       "        vertical-align: top;\n",
       "    }\n",
       "\n",
       "    .dataframe thead th {\n",
       "        text-align: right;\n",
       "    }\n",
       "</style>\n",
       "<table border=\"1\" class=\"dataframe\">\n",
       "  <thead>\n",
       "    <tr style=\"text-align: right;\">\n",
       "      <th></th>\n",
       "      <th>Unnamed: 0</th>\n",
       "      <th>bugID</th>\n",
       "      <th>user_comments</th>\n",
       "      <th>system_records</th>\n",
       "      <th>s1</th>\n",
       "      <th>s2</th>\n",
       "      <th>s3</th>\n",
       "      <th>s4</th>\n",
       "      <th>s5</th>\n",
       "      <th>s6</th>\n",
       "      <th>s7</th>\n",
       "      <th>s8</th>\n",
       "      <th>s9</th>\n",
       "      <th>y</th>\n",
       "    </tr>\n",
       "  </thead>\n",
       "  <tbody>\n",
       "    <tr>\n",
       "      <th>0</th>\n",
       "      <td>0</td>\n",
       "      <td>350007</td>\n",
       "      <td>['inactive', 'v1', 'app', 'window', 'seems', '...</td>\n",
       "      <td>[]</td>\n",
       "      <td>1</td>\n",
       "      <td>1</td>\n",
       "      <td>0</td>\n",
       "      <td>24</td>\n",
       "      <td>1</td>\n",
       "      <td>0</td>\n",
       "      <td>[0, 0, 0]</td>\n",
       "      <td>1</td>\n",
       "      <td>[1, 0]</td>\n",
       "      <td>24</td>\n",
       "    </tr>\n",
       "    <tr>\n",
       "      <th>1</th>\n",
       "      <td>1</td>\n",
       "      <td>350007</td>\n",
       "      <td>['comment1', 'kuscher', 'agree', 'looks', 'wei...</td>\n",
       "      <td>['cc', 'jennschen', 'pkotw', 'labels', 'pri-2'...</td>\n",
       "      <td>4</td>\n",
       "      <td>3</td>\n",
       "      <td>1</td>\n",
       "      <td>71</td>\n",
       "      <td>2</td>\n",
       "      <td>2</td>\n",
       "      <td>[0, 1, 0]</td>\n",
       "      <td>3</td>\n",
       "      <td>[0, 1]</td>\n",
       "      <td>22</td>\n",
       "    </tr>\n",
       "    <tr>\n",
       "      <th>2</th>\n",
       "      <td>2</td>\n",
       "      <td>350007</td>\n",
       "      <td>['comment4', 'sgabr', 'need', 'transparency', ...</td>\n",
       "      <td>[]</td>\n",
       "      <td>1</td>\n",
       "      <td>1</td>\n",
       "      <td>0</td>\n",
       "      <td>31</td>\n",
       "      <td>3</td>\n",
       "      <td>3</td>\n",
       "      <td>[1, 0, 1]</td>\n",
       "      <td>1</td>\n",
       "      <td>[0, 1]</td>\n",
       "      <td>21</td>\n",
       "    </tr>\n",
       "    <tr>\n",
       "      <th>3</th>\n",
       "      <td>3</td>\n",
       "      <td>350007</td>\n",
       "      <td>['comment5', 'sgabr', 'marking', 'one', 'wo', ...</td>\n",
       "      <td>['status', 'wontfix']</td>\n",
       "      <td>2</td>\n",
       "      <td>1</td>\n",
       "      <td>1</td>\n",
       "      <td>14</td>\n",
       "      <td>4</td>\n",
       "      <td>7</td>\n",
       "      <td>[0, 0, 0]</td>\n",
       "      <td>1</td>\n",
       "      <td>[0, 1]</td>\n",
       "      <td>17</td>\n",
       "    </tr>\n",
       "    <tr>\n",
       "      <th>4</th>\n",
       "      <td>4</td>\n",
       "      <td>350007</td>\n",
       "      <td>['comment6', 'pkotw', 'issue', 'has', 'merged'...</td>\n",
       "      <td>['cc', 'smokana', 'status', 'assigned']</td>\n",
       "      <td>5</td>\n",
       "      <td>3</td>\n",
       "      <td>2</td>\n",
       "      <td>31</td>\n",
       "      <td>5</td>\n",
       "      <td>8</td>\n",
       "      <td>[0, 0, 1]</td>\n",
       "      <td>2</td>\n",
       "      <td>[0, 1]</td>\n",
       "      <td>16</td>\n",
       "    </tr>\n",
       "  </tbody>\n",
       "</table>\n",
       "</div>"
      ],
      "text/plain": [
       "   Unnamed: 0   bugID                                      user_comments  \\\n",
       "0           0  350007  ['inactive', 'v1', 'app', 'window', 'seems', '...   \n",
       "1           1  350007  ['comment1', 'kuscher', 'agree', 'looks', 'wei...   \n",
       "2           2  350007  ['comment4', 'sgabr', 'need', 'transparency', ...   \n",
       "3           3  350007  ['comment5', 'sgabr', 'marking', 'one', 'wo', ...   \n",
       "4           4  350007  ['comment6', 'pkotw', 'issue', 'has', 'merged'...   \n",
       "\n",
       "                                      system_records  s1  s2  s3  s4  s5  s6  \\\n",
       "0                                                 []   1   1   0  24   1   0   \n",
       "1  ['cc', 'jennschen', 'pkotw', 'labels', 'pri-2'...   4   3   1  71   2   2   \n",
       "2                                                 []   1   1   0  31   3   3   \n",
       "3                              ['status', 'wontfix']   2   1   1  14   4   7   \n",
       "4            ['cc', 'smokana', 'status', 'assigned']   5   3   2  31   5   8   \n",
       "\n",
       "          s7  s8      s9   y  \n",
       "0  [0, 0, 0]   1  [1, 0]  24  \n",
       "1  [0, 1, 0]   3  [0, 1]  22  \n",
       "2  [1, 0, 1]   1  [0, 1]  21  \n",
       "3  [0, 0, 0]   1  [0, 1]  17  \n",
       "4  [0, 0, 1]   2  [0, 1]  16  "
      ]
     },
     "execution_count": 4,
     "metadata": {},
     "output_type": "execute_result"
    }
   ],
   "source": [
    "dasenet_df.head()"
   ]
  },
  {
   "cell_type": "code",
   "execution_count": 5,
   "metadata": {},
   "outputs": [],
   "source": [
    "dasenet_ids = dasenet_df['bugID']"
   ]
  },
  {
   "cell_type": "code",
   "execution_count": 6,
   "metadata": {},
   "outputs": [],
   "source": [
    "with open(triage_path, 'r', encoding='utf-8') as f:\n",
    "    triage_df = json.load(f, strict=False)"
   ]
  },
  {
   "cell_type": "code",
   "execution_count": 7,
   "metadata": {},
   "outputs": [
    {
     "data": {
      "text/plain": [
       "{'id': 1,\n",
       " 'issue_id': 2,\n",
       " 'issue_title': 'Testing if chromium id works',\n",
       " 'reported_time': '2008-08-30 16:00:21',\n",
       " 'owner': '',\n",
       " 'description': '\\nWhat steps will reproduce the problem?\\n1.\\n2.\\n3.\\n\\r\\nWhat is the expected output? What do you see instead?\\n\\r\\n\\r\\nPlease use labels and text to provide additional information.\\n \\n ',\n",
       " 'status': 'Invalid',\n",
       " 'type': 'Bug'}"
      ]
     },
     "execution_count": 7,
     "metadata": {},
     "output_type": "execute_result"
    }
   ],
   "source": [
    "triage_df[0]"
   ]
  },
  {
   "cell_type": "code",
   "execution_count": 8,
   "metadata": {},
   "outputs": [],
   "source": [
    "triage_ids = list(map(lambda x: x['issue_id'], triage_df))"
   ]
  },
  {
   "cell_type": "code",
   "execution_count": 9,
   "metadata": {},
   "outputs": [
    {
     "data": {
      "text/plain": [
       "[2, 3, 4, 5, 6]"
      ]
     },
     "execution_count": 9,
     "metadata": {},
     "output_type": "execute_result"
    }
   ],
   "source": [
    "triage_ids[:5]"
   ]
  },
  {
   "cell_type": "code",
   "execution_count": 10,
   "metadata": {},
   "outputs": [],
   "source": [
    "dasenet_ids = set(dasenet_ids)"
   ]
  },
  {
   "cell_type": "code",
   "execution_count": 11,
   "metadata": {},
   "outputs": [],
   "source": [
    "triage_ids = set(triage_ids)"
   ]
  },
  {
   "cell_type": "code",
   "execution_count": 12,
   "metadata": {},
   "outputs": [
    {
     "data": {
      "text/plain": [
       "(15170, 383025)"
      ]
     },
     "execution_count": 12,
     "metadata": {},
     "output_type": "execute_result"
    }
   ],
   "source": [
    "len(dasenet_ids), len(triage_ids)"
   ]
  },
  {
   "cell_type": "code",
   "execution_count": 13,
   "metadata": {},
   "outputs": [
    {
     "data": {
      "text/plain": [
       "14721"
      ]
     },
     "execution_count": 13,
     "metadata": {},
     "output_type": "execute_result"
    }
   ],
   "source": [
    "len(dasenet_ids.intersection(triage_ids))"
   ]
  },
  {
   "cell_type": "code",
   "execution_count": 17,
   "metadata": {},
   "outputs": [],
   "source": [
    "common_idx = dasenet_ids.intersection(triage_ids)"
   ]
  },
  {
   "cell_type": "code",
   "execution_count": 14,
   "metadata": {},
   "outputs": [],
   "source": [
    "trimmed_df = dasenet_df.drop_duplicates(subset='bugID', keep='first')"
   ]
  },
  {
   "cell_type": "code",
   "execution_count": 15,
   "metadata": {},
   "outputs": [
    {
     "data": {
      "text/plain": [
       "15170"
      ]
     },
     "execution_count": 15,
     "metadata": {},
     "output_type": "execute_result"
    }
   ],
   "source": [
    "len(trimmed_df)"
   ]
  },
  {
   "cell_type": "code",
   "execution_count": 18,
   "metadata": {},
   "outputs": [
    {
     "data": {
      "text/plain": [
       "14721"
      ]
     },
     "execution_count": 18,
     "metadata": {},
     "output_type": "execute_result"
    }
   ],
   "source": [
    "# Save the resulting files\n",
    "len(trimmed_df[trimmed_df['bugID'].isin(common_idx)])"
   ]
  },
  {
   "cell_type": "code",
   "execution_count": 19,
   "metadata": {},
   "outputs": [],
   "source": [
    "trimmed_df[trimmed_df['bugID'].isin(common_idx)].to_csv('chromium-common.csv')"
   ]
  },
  {
   "cell_type": "code",
   "execution_count": 18,
   "metadata": {},
   "outputs": [],
   "source": [
    "triage_common = list(filter(lambda p: p['issue_id'] in common_idx, triage_df))"
   ]
  },
  {
   "cell_type": "code",
   "execution_count": 61,
   "metadata": {},
   "outputs": [],
   "source": [
    "f = open('chromium_triage_common.json', 'w')\n",
    "json.dump(triage_common, f)\n",
    "f.close()"
   ]
  },
  {
   "cell_type": "code",
   "execution_count": 19,
   "metadata": {},
   "outputs": [],
   "source": [
    "# Add the labels to the JSON data\n",
    "result = list(map(lambda p: {**p, 'y': int(np.max(dasenet_df[dasenet_df['bugID'] == p['issue_id']]['y']))}, triage_common))"
   ]
  },
  {
   "cell_type": "code",
   "execution_count": 20,
   "metadata": {},
   "outputs": [],
   "source": [
    "f = open('chromium.json', 'w')\n",
    "json.dump(result, f)\n",
    "f.close()"
   ]
  },
  {
   "cell_type": "code",
   "execution_count": 2,
   "metadata": {},
   "outputs": [],
   "source": [
    "f = open('chromium.json', 'r')\n",
    "data = json.load(f)\n",
    "f.close()"
   ]
  },
  {
   "cell_type": "code",
   "execution_count": 3,
   "metadata": {},
   "outputs": [
    {
     "data": {
      "text/plain": [
       "{'id': 236,\n",
       " 'issue_id': 350007,\n",
       " 'issue_title': 'semitransparency of inactive v1 app window seems misleading when the window is maximized',\n",
       " 'reported_time': '2014-03-06 19:00:33',\n",
       " 'owner': 'sgabr...@chromium.org',\n",
       " 'description': '\\nGoogle Chrome\\t35.0.1870.0 (Official Build 254603) dev\\r\\nPlatform\\t5579.1.0 (Official Build) dev-channel stumpy\\r\\n\\r\\nWhat steps will reproduce the problem?\\n1. open SecureShell as a window, and maximize it\\r\\n2. open multiple browser windows and other windows\\r\\n3. focus on another window\\r\\n4. see top right of the screen\\r\\n\\r\\nWhat is the expected output? What do you see instead?\\nexpected:\\r\\ntitle bar is monotone-ish\\r\\n\\r\\nwhat I see:\\r\\nlooks like a misplaced-wrong-focus indicator-ish thing. It turns out the wallpaper with the semi-transparency of the inactive window. See the attached image.\\r\\nsgabriel, wdyt?  I might think better to handle differently for maximized window...\\r\\nIf you think this is expected, please mark as wontfix.\\r\\n\\r\\nPlease use labels and text to provide additional information.\\n\\n ',\n",
       " 'status': 'Verified',\n",
       " 'type': 'Bug',\n",
       " 'y': 24}"
      ]
     },
     "execution_count": 3,
     "metadata": {},
     "output_type": "execute_result"
    }
   ],
   "source": [
    "data[0]"
   ]
  },
  {
   "cell_type": "code",
   "execution_count": null,
   "metadata": {},
   "outputs": [],
   "source": []
  }
 ],
 "metadata": {
  "kernelspec": {
   "display_name": "Python 3",
   "language": "python",
   "name": "python3"
  },
  "language_info": {
   "codemirror_mode": {
    "name": "ipython",
    "version": 3
   },
   "file_extension": ".py",
   "mimetype": "text/x-python",
   "name": "python",
   "nbconvert_exporter": "python",
   "pygments_lexer": "ipython3",
   "version": "3.8.5"
  }
 },
 "nbformat": 4,
 "nbformat_minor": 4
}
